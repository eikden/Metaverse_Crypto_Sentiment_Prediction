{
 "cells": [
  {
   "cell_type": "code",
   "execution_count": 1,
   "id": "9ca0a768",
   "metadata": {},
   "outputs": [],
   "source": [
    "import warnings\n",
    "warnings.filterwarnings(\"ignore\")"
   ]
  },
  {
   "cell_type": "code",
   "execution_count": 2,
   "id": "05a95190",
   "metadata": {},
   "outputs": [
    {
     "name": "stderr",
     "output_type": "stream",
     "text": [
      "[nltk_data] Downloading package stopwords to\n",
      "[nltk_data]     C:\\Users\\eikde\\AppData\\Roaming\\nltk_data...\n",
      "[nltk_data]   Package stopwords is already up-to-date!\n",
      "[nltk_data] Downloading package punkt to\n",
      "[nltk_data]     C:\\Users\\eikde\\AppData\\Roaming\\nltk_data...\n",
      "[nltk_data]   Package punkt is already up-to-date!\n",
      "[nltk_data] Downloading package wordnet to\n",
      "[nltk_data]     C:\\Users\\eikde\\AppData\\Roaming\\nltk_data...\n",
      "[nltk_data]   Package wordnet is already up-to-date!\n"
     ]
    }
   ],
   "source": [
    "import json\n",
    "import pandas as pd\n",
    "import numpy as np\n",
    "#!pip install pandas_datareader to validate crypto pricing with specific date\n",
    "import pandas_datareader as web\n",
    "import datetime as dt\n",
    "from datetime import date\n",
    "import seaborn as sns\n",
    "from numerize import numerize\n",
    "import torch #torch first before matplotlib, otherwise the library will crash the environment. \n",
    "import matplotlib.patches as patches\n",
    "import matplotlib.pyplot as plt\n",
    "from tqdm.notebook import tqdm\n",
    "\n",
    "#NLP libraries\n",
    "import re\n",
    "# Import nltk modules and download dataset\n",
    "import nltk\n",
    "from nltk.corpus import stopwords\n",
    "from nltk.util import ngrams\n",
    "from nltk.tokenize import word_tokenize\n",
    "from nltk.tokenize.treebank import TreebankWordDetokenizer\n",
    "nltk.download('stopwords')\n",
    "nltk.download('punkt')\n",
    "nltk.download('wordnet')\n",
    "stop = set(stopwords.words('english'))\n",
    "\n",
    "#import FinBert library\n",
    "from textblob import TextBlob\n",
    "from sklearn.metrics import classification_report\n"
   ]
  },
  {
   "cell_type": "code",
   "execution_count": 3,
   "id": "04beeff9",
   "metadata": {},
   "outputs": [],
   "source": [
    "#extract data libraries\n",
    "import requests\n",
    "import dateutil.parser\n",
    "import unicodedata\n",
    "import time\n",
    "from searchtweets import load_credentials"
   ]
  },
  {
   "cell_type": "code",
   "execution_count": 4,
   "id": "9f439720",
   "metadata": {},
   "outputs": [
    {
     "name": "stdout",
     "output_type": "stream",
     "text": [
      "C:\\Users\\eikde\\source\\repos\\exploration\\01_METAVERSE\n"
     ]
    }
   ],
   "source": [
    "from pathlib import Path\n",
    "import shutil\n",
    "import os\n",
    "import logging\n",
    "import sys\n",
    "sys.path.append('..')\n",
    "\n",
    "print(os.getcwd())"
   ]
  },
  {
   "cell_type": "code",
   "execution_count": 5,
   "id": "3446f4a2",
   "metadata": {},
   "outputs": [
    {
     "name": "stdout",
     "output_type": "stream",
     "text": [
      "C:\\Users\\eikde\\source\\repos\\exploration\\01_METAVERSE\n"
     ]
    }
   ],
   "source": [
    "from pprint import pprint\n",
    "from transformers import AutoModelForSequenceClassification\n",
    "\n",
    "from finbert import *\n",
    "import finbert.utils as tools\n",
    "from finbert.finbert import predict\n",
    "\n",
    "%load_ext autoreload\n",
    "%autoreload 2\n",
    "\n",
    "project_dir = Path.cwd()\n",
    "print(project_dir)"
   ]
  },
  {
   "cell_type": "code",
   "execution_count": 6,
   "id": "2cd8b8b7",
   "metadata": {},
   "outputs": [],
   "source": [
    "colors = {'red': '#ff207c', 'grey': '#42535b', 'blue': '#207cff', 'orange': '#ffa320', 'green': '#00ec8b'}\n",
    "config_ticks = {'size': 14, 'color': colors['grey'], 'labelcolor': colors['grey']}\n",
    "config_title = {'size': 18, 'color': colors['grey'], 'ha': 'left', 'va': 'baseline'}"
   ]
  },
  {
   "cell_type": "code",
   "execution_count": 7,
   "id": "6099db5e",
   "metadata": {},
   "outputs": [],
   "source": [
    "#plot chart function\n",
    "def get_charts(data, title):\n",
    "    plt.rc('figure', figsize=(15, 10))\n",
    "    fig, axes = plt.subplots(2, 1, \n",
    "                gridspec_kw={'height_ratios': [3, 1]})\n",
    "    fig.tight_layout(pad=3)\n",
    "    fig.suptitle(title, fontsize=16)\n",
    "    \n",
    "    date = data['Date']\n",
    "    close = data['Close']\n",
    "    vol = data['Volume']\n",
    "    \n",
    "    plot_price = axes[0]\n",
    "    plot_price.plot(date, close, color=colors['blue'], \n",
    "    linewidth=2, label='Price')\n",
    "    plot_price.set_ylabel('Price (in USD)', fontsize=14)\n",
    "    plot_price.set_xlabel('Date', fontsize=14)\n",
    "    \n",
    "    plot_vol = axes[1]\n",
    "    plot_vol.bar(date, vol, width=15, color='darkgrey')\n",
    "    plt.xlabel('Date', fontsize=14)\n",
    "    plt.ylabel('Volume (in millions)', fontsize=14)"
   ]
  },
  {
   "cell_type": "code",
   "execution_count": 8,
   "id": "64d1ce0e",
   "metadata": {},
   "outputs": [
    {
     "data": {
      "text/plain": [
       "True"
      ]
     },
     "execution_count": 8,
     "metadata": {},
     "output_type": "execute_result"
    }
   ],
   "source": [
    "#to check whether torch is available. Torch library is important for NLP and BERT.\n",
    "torch.cuda.is_available()"
   ]
  },
  {
   "cell_type": "markdown",
   "id": "b1f8854f",
   "metadata": {},
   "source": [
    "# Preprocessing Text\n",
    "\n",
    "Additional filter if needed, can be added on into preprocess_word function. This will help us to reuse this function to remove unnessary text. "
   ]
  },
  {
   "cell_type": "code",
   "execution_count": 9,
   "id": "6537a65a",
   "metadata": {},
   "outputs": [],
   "source": [
    "#a function that to help preprocessing the message to a proper text for analysis\n",
    "def preprocess_word(message):\n",
    "    \"\"\"\n",
    "    This function takes a string as input, then performs these operations: \n",
    "        - lowercase\n",
    "        - remove URLs\n",
    "        - remove ticker symbols \n",
    "        - removes punctuation\n",
    "        - tokenize by splitting the string on whitespace \n",
    "        - removes any single character tokens\n",
    "    \n",
    "    Parameters\n",
    "    ----------\n",
    "        message : The text message to be preprocessed.\n",
    "        \n",
    "    Returns\n",
    "    -------\n",
    "        tokens: The preprocessed text into tokens.\n",
    "    \"\"\" \n",
    "    # Lowercase the message\n",
    "    try:\n",
    "        text = str(message).lower()\n",
    "    except:\n",
    "        print(text)\n",
    "    \n",
    "    \n",
    "    # Replace % to percentage only fulfill for number\n",
    "    try:\n",
    "        replace_percent = re.findall('(\\d+(\\.\\d+)?%)', text)\n",
    "        for i in range(len(replace_percent)):\n",
    "            item = re.sub('%', 'percent', replace_percent[i][0])\n",
    "            percent = item.replace(\"percent\",\"%\")\n",
    "            item = re.sub('%', ' percent', replace_percent[i][0])\n",
    "            text = text.replace(percent, item)\n",
    "    except:\n",
    "        print(text)\n",
    "        \n",
    "    # Replace URLs with a space in the message\n",
    "    text = re.sub('https?:\\/\\/[a-zA-Z0-9@:%._\\/+~#=?&;-]*', ' ', text)\n",
    "    \n",
    "    # Replace ticker symbols with a space. The ticker symbols are any stock symbol that starts with $.\n",
    "    text = re.sub('\\$[a-zA-Z0-9]*', ' ', text)\n",
    "    \n",
    "    # Replace usernames with a space. The usernames are any word that starts with @.\n",
    "    text = re.sub('\\@[a-zA-Z0-9]*', ' ', text)\n",
    "\n",
    "    # Replace everything not a letter with a space\n",
    "    text = re.sub('[^a-z0-9.0-9A-Z.]', ' ', text)\n",
    "    \n",
    "    # Remove stop words\n",
    "    word_tokens = word_tokenize(text)\n",
    "    filtered = []\n",
    "    filtered = [w for w in word_tokens if not w in stop]\n",
    "    filtered = TreebankWordDetokenizer().detokenize(filtered)\n",
    "    \n",
    "    return filtered"
   ]
  },
  {
   "cell_type": "code",
   "execution_count": 10,
   "id": "f3bf485c",
   "metadata": {},
   "outputs": [
    {
     "name": "stdout",
     "output_type": "stream",
     "text": [
      "rt annual looked year 50.52 percent google blogging beyond 33 percent\n"
     ]
    }
   ],
   "source": [
    "# Check whether the function is working. \n",
    "test_message = 'RT @google Our annual looked% at the year 50.52% in Google blogging (and beyond) http://t.co/sptHOAh8 $GOOG 33%'\n",
    "print(preprocess_word(test_message))\n"
   ]
  },
  {
   "cell_type": "markdown",
   "id": "063fa7ed",
   "metadata": {},
   "source": [
    "With the `predict` function, given a piece of text, we split it into a list of sentences and then predict sentiment for each sentence. The output is written into a dataframe. Predictions are represented in three different columns: \n",
    "\n",
    "1) `logit`: probabilities for each class\n",
    "\n",
    "2) `prediction`: predicted label\n",
    "\n",
    "3) `sentiment_score`: sentiment score calculated as: probability of positive - probability of negative\n",
    "\n",
    "Below we analyze a paragraph taken out of [this](https://www.economist.com/finance-and-economics/2019/01/03/a-profit-warning-from-apple-jolts-markets) article from The Economist. For comparison purposes, we also put the sentiments predicted with TextBlob.\n",
    "> Later that day Apple said it was revising down its earnings expectations in the fourth quarter of 2018, largely because of lower sales and signs of economic weakness in China. The news rapidly infected financial markets. Apple’s share price fell by around 7% in after-hours trading and the decline was extended to more than 10% when the market opened. The dollar fell by 3.7% against the yen in a matter of minutes after the announcement, before rapidly recovering some ground. Asian stockmarkets closed down on January 3rd and European ones opened lower. Yields on government bonds fell as investors fled to the traditional haven in a market storm."
   ]
  },
  {
   "cell_type": "code",
   "execution_count": 11,
   "id": "0d76c58f",
   "metadata": {},
   "outputs": [],
   "source": [
    "#load back the pre-train model\n",
    "cl_path = project_dir/'Models'/'classifier_model'/'finbert-sentiment'\n",
    "model = AutoModelForSequenceClassification.from_pretrained(cl_path, cache_dir=None, num_labels=3)"
   ]
  },
  {
   "cell_type": "code",
   "execution_count": 12,
   "id": "27ac5a68",
   "metadata": {},
   "outputs": [],
   "source": [
    "#Test statement\n",
    "text = \"Later that day Apple said it was revising down its earnings expectations in \\\n",
    "the fourth quarter of 2018, largely because of lower sales and signs of economic weakness in China. \\\n",
    "The news rapidly infected financial markets. Apple’s share price fell by around 7% in after-hours \\\n",
    "trading and the decline was extended to more than 10% when the market opened. The dollar fell \\\n",
    "by 3.7% against the yen in a matter of minutes after the announcement, before rapidly recovering \\\n",
    "some ground. Asian stockmarkets closed down on January 3rd and European ones opened lower. \\\n",
    "Yields on government bonds fell as investors fled to the traditional haven in a market storm.\""
   ]
  },
  {
   "cell_type": "code",
   "execution_count": 13,
   "id": "8fee58f5",
   "metadata": {},
   "outputs": [
    {
     "name": "stderr",
     "output_type": "stream",
     "text": [
      "05/28/2022 13:12:18 - INFO - root -   Using device: cuda:0 \n",
      "05/28/2022 13:12:18 - INFO - finbert.utils -   *** Example ***\n",
      "05/28/2022 13:12:18 - INFO - finbert.utils -   guid: 0\n",
      "05/28/2022 13:12:18 - INFO - finbert.utils -   tokens: [CLS] later day apple said rev ##ising earnings expectations fourth quarter 2018 largely lower sales signs economic weakness china . [SEP]\n",
      "05/28/2022 13:12:18 - INFO - finbert.utils -   input_ids: 101 2101 2154 6207 2056 7065 9355 16565 10908 2959 4284 2760 4321 2896 4341 5751 3171 11251 2859 1012 102 0 0 0 0 0 0 0 0 0 0 0 0 0 0 0 0 0 0 0 0 0 0 0 0 0 0 0 0 0 0 0 0 0 0 0 0 0 0 0 0 0 0 0\n",
      "05/28/2022 13:12:18 - INFO - finbert.utils -   attention_mask: 1 1 1 1 1 1 1 1 1 1 1 1 1 1 1 1 1 1 1 1 1 0 0 0 0 0 0 0 0 0 0 0 0 0 0 0 0 0 0 0 0 0 0 0 0 0 0 0 0 0 0 0 0 0 0 0 0 0 0 0 0 0 0 0\n",
      "05/28/2022 13:12:18 - INFO - finbert.utils -   token_type_ids: 0 0 0 0 0 0 0 0 0 0 0 0 0 0 0 0 0 0 0 0 0 0 0 0 0 0 0 0 0 0 0 0 0 0 0 0 0 0 0 0 0 0 0 0 0 0 0 0 0 0 0 0 0 0 0 0 0 0 0 0 0 0 0 0\n",
      "05/28/2022 13:12:18 - INFO - finbert.utils -   label: None (id = 9090)\n",
      "05/28/2022 13:12:21 - INFO - root -   tensor([[-0.9694,  3.1213, -2.1256],\n",
      "        [-2.3574,  3.3712, -0.2872],\n",
      "        [-2.4147,  3.8941, -1.0204],\n",
      "        [-0.8776,  2.8225, -1.8732],\n",
      "        [-2.3153,  3.8424, -1.0997],\n",
      "        [-1.5888,  2.8161, -0.8135]], device='cuda:0')\n"
     ]
    }
   ],
   "source": [
    "result = predict(preprocess_word(text),model, use_gpu=True, gpu_name='cuda:0',batch_size=100)"
   ]
  },
  {
   "cell_type": "code",
   "execution_count": 14,
   "id": "05af5880",
   "metadata": {},
   "outputs": [
    {
     "data": {
      "text/html": [
       "<div>\n",
       "<style scoped>\n",
       "    .dataframe tbody tr th:only-of-type {\n",
       "        vertical-align: middle;\n",
       "    }\n",
       "\n",
       "    .dataframe tbody tr th {\n",
       "        vertical-align: top;\n",
       "    }\n",
       "\n",
       "    .dataframe thead th {\n",
       "        text-align: right;\n",
       "    }\n",
       "</style>\n",
       "<table border=\"1\" class=\"dataframe\">\n",
       "  <thead>\n",
       "    <tr style=\"text-align: right;\">\n",
       "      <th></th>\n",
       "      <th>sentence</th>\n",
       "      <th>logit</th>\n",
       "      <th>prediction</th>\n",
       "      <th>sentiment_score</th>\n",
       "    </tr>\n",
       "  </thead>\n",
       "  <tbody>\n",
       "    <tr>\n",
       "      <th>0</th>\n",
       "      <td>later day apple said revising earnings expecta...</td>\n",
       "      <td>[0.016367333, 0.9784824, 0.0051503545]</td>\n",
       "      <td>negative</td>\n",
       "      <td>-0.962115</td>\n",
       "    </tr>\n",
       "    <tr>\n",
       "      <th>1</th>\n",
       "      <td>news rapidly infected financial markets .</td>\n",
       "      <td>[0.0031599307, 0.97179496, 0.025045084]</td>\n",
       "      <td>negative</td>\n",
       "      <td>-0.968635</td>\n",
       "    </tr>\n",
       "    <tr>\n",
       "      <th>2</th>\n",
       "      <td>apple share price fell around 7 percent hours ...</td>\n",
       "      <td>[0.0018037576, 0.9909236, 0.007272607]</td>\n",
       "      <td>negative</td>\n",
       "      <td>-0.98912</td>\n",
       "    </tr>\n",
       "    <tr>\n",
       "      <th>3</th>\n",
       "      <td>dollar fell 3.7 percent yen matter minutes ann...</td>\n",
       "      <td>[0.023911143, 0.9672537, 0.008835201]</td>\n",
       "      <td>negative</td>\n",
       "      <td>-0.943343</td>\n",
       "    </tr>\n",
       "    <tr>\n",
       "      <th>4</th>\n",
       "      <td>asian stockmarkets closed january 3rd european...</td>\n",
       "      <td>[0.0020976358, 0.99082804, 0.007074352]</td>\n",
       "      <td>negative</td>\n",
       "      <td>-0.98873</td>\n",
       "    </tr>\n",
       "    <tr>\n",
       "      <th>5</th>\n",
       "      <td>yields government bonds fell investors fled tr...</td>\n",
       "      <td>[0.011761616, 0.96269923, 0.025539124]</td>\n",
       "      <td>negative</td>\n",
       "      <td>-0.950938</td>\n",
       "    </tr>\n",
       "  </tbody>\n",
       "</table>\n",
       "</div>"
      ],
      "text/plain": [
       "                                            sentence  \\\n",
       "0  later day apple said revising earnings expecta...   \n",
       "1          news rapidly infected financial markets .   \n",
       "2  apple share price fell around 7 percent hours ...   \n",
       "3  dollar fell 3.7 percent yen matter minutes ann...   \n",
       "4  asian stockmarkets closed january 3rd european...   \n",
       "5  yields government bonds fell investors fled tr...   \n",
       "\n",
       "                                     logit prediction sentiment_score  \n",
       "0   [0.016367333, 0.9784824, 0.0051503545]   negative       -0.962115  \n",
       "1  [0.0031599307, 0.97179496, 0.025045084]   negative       -0.968635  \n",
       "2   [0.0018037576, 0.9909236, 0.007272607]   negative        -0.98912  \n",
       "3    [0.023911143, 0.9672537, 0.008835201]   negative       -0.943343  \n",
       "4  [0.0020976358, 0.99082804, 0.007074352]   negative        -0.98873  \n",
       "5   [0.011761616, 0.96269923, 0.025539124]   negative       -0.950938  "
      ]
     },
     "execution_count": 14,
     "metadata": {},
     "output_type": "execute_result"
    }
   ],
   "source": [
    "result"
   ]
  },
  {
   "cell_type": "code",
   "execution_count": 15,
   "id": "d17d3b69",
   "metadata": {},
   "outputs": [
    {
     "name": "stdout",
     "output_type": "stream",
     "text": [
      "Average sentiment is -0.97.\n"
     ]
    }
   ],
   "source": [
    "print(f'Average sentiment is %.2f.' % (result.sentiment_score.mean()))"
   ]
  },
  {
   "cell_type": "code",
   "execution_count": 18,
   "id": "f0877bb7",
   "metadata": {},
   "outputs": [
    {
     "name": "stderr",
     "output_type": "stream",
     "text": [
      "05/28/2022 13:13:54 - INFO - root -   Using device: cuda:0 \n",
      "05/28/2022 13:13:54 - INFO - finbert.utils -   *** Example ***\n",
      "05/28/2022 13:13:54 - INFO - finbert.utils -   guid: 0\n",
      "05/28/2022 13:13:54 - INFO - finbert.utils -   tokens: [CLS] step ##n cutting services players mainland china move major impact app token ##s . [SEP]\n",
      "05/28/2022 13:13:54 - INFO - finbert.utils -   input_ids: 101 3357 2078 6276 2578 2867 8240 2859 2693 2350 4254 10439 19204 2015 1012 102 0 0 0 0 0 0 0 0 0 0 0 0 0 0 0 0 0 0 0 0 0 0 0 0 0 0 0 0 0 0 0 0 0 0 0 0 0 0 0 0 0 0 0 0 0 0 0 0\n",
      "05/28/2022 13:13:54 - INFO - finbert.utils -   attention_mask: 1 1 1 1 1 1 1 1 1 1 1 1 1 1 1 1 0 0 0 0 0 0 0 0 0 0 0 0 0 0 0 0 0 0 0 0 0 0 0 0 0 0 0 0 0 0 0 0 0 0 0 0 0 0 0 0 0 0 0 0 0 0 0 0\n",
      "05/28/2022 13:13:54 - INFO - finbert.utils -   token_type_ids: 0 0 0 0 0 0 0 0 0 0 0 0 0 0 0 0 0 0 0 0 0 0 0 0 0 0 0 0 0 0 0 0 0 0 0 0 0 0 0 0 0 0 0 0 0 0 0 0 0 0 0 0 0 0 0 0 0 0 0 0 0 0 0 0\n",
      "05/28/2022 13:13:54 - INFO - finbert.utils -   label: None (id = 9090)\n",
      "05/28/2022 13:13:54 - INFO - root -   tensor([[-1.0403,  0.4479,  0.9534],\n",
      "        [-2.2592,  2.5467,  0.8025]], device='cuda:0')\n"
     ]
    },
    {
     "name": "stdout",
     "output_type": "stream",
     "text": [
      "stepn cutting services players mainland china move major impact app tokens . move earn lifestyle app announced thursday would cut access users playing mainland china abide local regulations.\n",
      "                                            sentence  \\\n",
      "0  stepn cutting services players mainland china ...   \n",
      "1  move earn lifestyle app announced thursday wou...   \n",
      "\n",
      "                                   logit prediction sentiment_score  \n",
      "0   [0.07829892, 0.34680462, 0.57489645]    neutral       -0.268506  \n",
      "1  [0.006916296, 0.84532917, 0.14775454]   negative       -0.838413  \n",
      "Average sentiment is -0.55.\n"
     ]
    }
   ],
   "source": [
    "text = \"STEPN is cutting its services for players in mainland China, and the move has had a major\\\n",
    "        impact on the app’s tokens. The move-to-earn lifestyle app announced Thursday that it would\\\n",
    "        cut access to users playing from mainland China to abide by local regulations.\"\n",
    "result = predict(preprocess_word(text),model, use_gpu=True, gpu_name='cuda:0',batch_size=100)\n",
    "print(preprocess_word(text))\n"
   ]
  },
  {
   "cell_type": "code",
   "execution_count": 19,
   "id": "6485a5fa",
   "metadata": {},
   "outputs": [
    {
     "data": {
      "text/html": [
       "<div>\n",
       "<style scoped>\n",
       "    .dataframe tbody tr th:only-of-type {\n",
       "        vertical-align: middle;\n",
       "    }\n",
       "\n",
       "    .dataframe tbody tr th {\n",
       "        vertical-align: top;\n",
       "    }\n",
       "\n",
       "    .dataframe thead th {\n",
       "        text-align: right;\n",
       "    }\n",
       "</style>\n",
       "<table border=\"1\" class=\"dataframe\">\n",
       "  <thead>\n",
       "    <tr style=\"text-align: right;\">\n",
       "      <th></th>\n",
       "      <th>sentence</th>\n",
       "      <th>logit</th>\n",
       "      <th>prediction</th>\n",
       "      <th>sentiment_score</th>\n",
       "    </tr>\n",
       "  </thead>\n",
       "  <tbody>\n",
       "    <tr>\n",
       "      <th>0</th>\n",
       "      <td>stepn cutting services players mainland china ...</td>\n",
       "      <td>[0.07829892, 0.34680462, 0.57489645]</td>\n",
       "      <td>neutral</td>\n",
       "      <td>-0.268506</td>\n",
       "    </tr>\n",
       "    <tr>\n",
       "      <th>1</th>\n",
       "      <td>move earn lifestyle app announced thursday wou...</td>\n",
       "      <td>[0.006916296, 0.84532917, 0.14775454]</td>\n",
       "      <td>negative</td>\n",
       "      <td>-0.838413</td>\n",
       "    </tr>\n",
       "  </tbody>\n",
       "</table>\n",
       "</div>"
      ],
      "text/plain": [
       "                                            sentence  \\\n",
       "0  stepn cutting services players mainland china ...   \n",
       "1  move earn lifestyle app announced thursday wou...   \n",
       "\n",
       "                                   logit prediction sentiment_score  \n",
       "0   [0.07829892, 0.34680462, 0.57489645]    neutral       -0.268506  \n",
       "1  [0.006916296, 0.84532917, 0.14775454]   negative       -0.838413  "
      ]
     },
     "execution_count": 19,
     "metadata": {},
     "output_type": "execute_result"
    }
   ],
   "source": [
    "result\n"
   ]
  },
  {
   "cell_type": "code",
   "execution_count": 20,
   "id": "4b6f11a3",
   "metadata": {},
   "outputs": [
    {
     "name": "stdout",
     "output_type": "stream",
     "text": [
      "Average sentiment is -0.55.\n"
     ]
    }
   ],
   "source": [
    "print(f'Average sentiment is %.2f.' % (result.sentiment_score.mean()))"
   ]
  },
  {
   "cell_type": "code",
   "execution_count": 22,
   "id": "a0554001",
   "metadata": {},
   "outputs": [
    {
     "name": "stderr",
     "output_type": "stream",
     "text": [
      "05/28/2022 13:21:55 - INFO - root -   Using device: cuda:0 \n",
      "05/28/2022 13:21:55 - INFO - finbert.utils -   *** Example ***\n",
      "05/28/2022 13:21:55 - INFO - finbert.utils -   guid: 0\n",
      "05/28/2022 13:21:55 - INFO - finbert.utils -   tokens: [CLS] good news markets fed preferred inflation metric may peaked . [SEP]\n",
      "05/28/2022 13:21:55 - INFO - finbert.utils -   input_ids: 101 2204 2739 6089 7349 6871 14200 12046 2089 6601 1012 102 0 0 0 0 0 0 0 0 0 0 0 0 0 0 0 0 0 0 0 0 0 0 0 0 0 0 0 0 0 0 0 0 0 0 0 0 0 0 0 0 0 0 0 0 0 0 0 0 0 0 0 0\n",
      "05/28/2022 13:21:55 - INFO - finbert.utils -   attention_mask: 1 1 1 1 1 1 1 1 1 1 1 1 0 0 0 0 0 0 0 0 0 0 0 0 0 0 0 0 0 0 0 0 0 0 0 0 0 0 0 0 0 0 0 0 0 0 0 0 0 0 0 0 0 0 0 0 0 0 0 0 0 0 0 0\n",
      "05/28/2022 13:21:55 - INFO - finbert.utils -   token_type_ids: 0 0 0 0 0 0 0 0 0 0 0 0 0 0 0 0 0 0 0 0 0 0 0 0 0 0 0 0 0 0 0 0 0 0 0 0 0 0 0 0 0 0 0 0 0 0 0 0 0 0 0 0 0 0 0 0 0 0 0 0 0 0 0 0\n",
      "05/28/2022 13:21:55 - INFO - finbert.utils -   label: None (id = 9090)\n",
      "05/28/2022 13:21:55 - INFO - root -   tensor([[ 0.6224,  1.1286, -2.2303],\n",
      "        [ 2.3770, -1.1454, -2.4190],\n",
      "        [-0.8968, -1.4146,  2.7681],\n",
      "        [ 2.4331, -1.9469, -1.7042],\n",
      "        [-1.5099,  3.0544, -1.1602],\n",
      "        [ 2.1213, -1.9489, -1.3065]], device='cuda:0')\n"
     ]
    },
    {
     "name": "stdout",
     "output_type": "stream",
     "text": [
      "good news markets fed preferred inflation metric may peaked . today pce inflation number relatively good news markets suggesting inflation could trend lower summer . annual price change april 2022 6.3 percent . 6.6 percent march prices goods rose slower pace previously price increases services rose broadly similar rate recent months . stripping food energy annual inflation fell back 4.9 percent rate growth last saw december 2021. early sure inflation may trending lower . course inflation still well federal reserve 2 percent target direction potentially positive.\n"
     ]
    }
   ],
   "source": [
    "text = \"Good News For Markets As Fed’s Preferred Inflation Metric May Have Peaked. \\\n",
    "        Today’s PCE inflation number was relatively good news for markets suggesting inflation \\\n",
    "        could trend lower over the summer. The annual price change for April 2022 was 6.3%. \\\n",
    "        That’s down from 6.6% in March, as prices for goods rose at a slower pace than previously \\\n",
    "        and price increases for services rose at a broadly similar rate to recent months.\\\n",
    "        Stripping out food and energy, annual inflation fell back to 4.9%, a rate of growth\\\n",
    "        we last saw in December 2021. It’s too early to be sure, but inflation may be trending lower.\\\n",
    "        Of course, inflation is still well above the Federal Reserve’s 2% target,\\\n",
    "        but the direction is potentially a positive.\"\n",
    "result = predict(preprocess_word(text),model, use_gpu=True, gpu_name='cuda:0',batch_size=100)\n",
    "print(preprocess_word(text))"
   ]
  },
  {
   "cell_type": "code",
   "execution_count": 23,
   "id": "3e497e4d",
   "metadata": {},
   "outputs": [
    {
     "data": {
      "text/html": [
       "<div>\n",
       "<style scoped>\n",
       "    .dataframe tbody tr th:only-of-type {\n",
       "        vertical-align: middle;\n",
       "    }\n",
       "\n",
       "    .dataframe tbody tr th {\n",
       "        vertical-align: top;\n",
       "    }\n",
       "\n",
       "    .dataframe thead th {\n",
       "        text-align: right;\n",
       "    }\n",
       "</style>\n",
       "<table border=\"1\" class=\"dataframe\">\n",
       "  <thead>\n",
       "    <tr style=\"text-align: right;\">\n",
       "      <th></th>\n",
       "      <th>sentence</th>\n",
       "      <th>logit</th>\n",
       "      <th>prediction</th>\n",
       "      <th>sentiment_score</th>\n",
       "    </tr>\n",
       "  </thead>\n",
       "  <tbody>\n",
       "    <tr>\n",
       "      <th>0</th>\n",
       "      <td>good news markets fed preferred inflation metr...</td>\n",
       "      <td>[0.36811048, 0.61065453, 0.02123492]</td>\n",
       "      <td>negative</td>\n",
       "      <td>-0.242544</td>\n",
       "    </tr>\n",
       "    <tr>\n",
       "      <th>1</th>\n",
       "      <td>today pce inflation number relatively good new...</td>\n",
       "      <td>[0.96358657, 0.028451834, 0.007961505]</td>\n",
       "      <td>positive</td>\n",
       "      <td>0.935135</td>\n",
       "    </tr>\n",
       "    <tr>\n",
       "      <th>2</th>\n",
       "      <td>annual price change april 2022 6.3 percent .</td>\n",
       "      <td>[0.024601964, 0.014657142, 0.96074086]</td>\n",
       "      <td>neutral</td>\n",
       "      <td>0.009945</td>\n",
       "    </tr>\n",
       "    <tr>\n",
       "      <th>3</th>\n",
       "      <td>6.6 percent march prices goods rose slower pac...</td>\n",
       "      <td>[0.9722979, 0.01217896, 0.01552313]</td>\n",
       "      <td>positive</td>\n",
       "      <td>0.960119</td>\n",
       "    </tr>\n",
       "    <tr>\n",
       "      <th>4</th>\n",
       "      <td>stripping food energy annual inflation fell ba...</td>\n",
       "      <td>[0.0101604, 0.9754249, 0.01441473]</td>\n",
       "      <td>negative</td>\n",
       "      <td>-0.965264</td>\n",
       "    </tr>\n",
       "    <tr>\n",
       "      <th>5</th>\n",
       "      <td>course inflation still well federal reserve 2 ...</td>\n",
       "      <td>[0.95280415, 0.016268332, 0.030927548]</td>\n",
       "      <td>positive</td>\n",
       "      <td>0.936536</td>\n",
       "    </tr>\n",
       "  </tbody>\n",
       "</table>\n",
       "</div>"
      ],
      "text/plain": [
       "                                            sentence  \\\n",
       "0  good news markets fed preferred inflation metr...   \n",
       "1  today pce inflation number relatively good new...   \n",
       "2       annual price change april 2022 6.3 percent .   \n",
       "3  6.6 percent march prices goods rose slower pac...   \n",
       "4  stripping food energy annual inflation fell ba...   \n",
       "5  course inflation still well federal reserve 2 ...   \n",
       "\n",
       "                                    logit prediction sentiment_score  \n",
       "0    [0.36811048, 0.61065453, 0.02123492]   negative       -0.242544  \n",
       "1  [0.96358657, 0.028451834, 0.007961505]   positive        0.935135  \n",
       "2  [0.024601964, 0.014657142, 0.96074086]    neutral        0.009945  \n",
       "3     [0.9722979, 0.01217896, 0.01552313]   positive        0.960119  \n",
       "4      [0.0101604, 0.9754249, 0.01441473]   negative       -0.965264  \n",
       "5  [0.95280415, 0.016268332, 0.030927548]   positive        0.936536  "
      ]
     },
     "execution_count": 23,
     "metadata": {},
     "output_type": "execute_result"
    }
   ],
   "source": [
    "result"
   ]
  },
  {
   "cell_type": "code",
   "execution_count": 24,
   "id": "ae531526",
   "metadata": {},
   "outputs": [
    {
     "name": "stdout",
     "output_type": "stream",
     "text": [
      "Average sentiment is 0.27.\n"
     ]
    }
   ],
   "source": [
    "print(f'Average sentiment is %.2f.' % (result.sentiment_score.mean()))"
   ]
  },
  {
   "cell_type": "markdown",
   "id": "d7e456be",
   "metadata": {},
   "source": [
    "# Generate finance news sentiment"
   ]
  },
  {
   "cell_type": "code",
   "execution_count": null,
   "id": "a5078927",
   "metadata": {},
   "outputs": [],
   "source": [
    "#read excel file\n",
    "news = pd.read_excel(r\"Data/forbes_news/forbes_news.xlsx\")\n",
    "#news = news.drop(['Column1','sentiment_score'], axis=1)\n",
    "news.rename(columns ={\"label\": \"category\"}, inplace=True)"
   ]
  },
  {
   "cell_type": "code",
   "execution_count": null,
   "id": "e557ea99",
   "metadata": {},
   "outputs": [],
   "source": [
    "start = dt.datetime(2021,10,1)\n",
    "end = dt.datetime(2022,4,30)\n",
    "def filter_news_by_date(start, end, data):\n",
    "    data.date = pd.to_datetime(data.date)\n",
    "    data = data[(data['date'] >= start) & (data['date'] <= end)]\n",
    "    data = data.set_index('date') \n",
    "    data = data.sort_index()\n",
    "    data = data.reset_index()\n",
    "    #data = data.set_index('date')\n",
    "    return data"
   ]
  },
  {
   "cell_type": "code",
   "execution_count": null,
   "id": "87f48fb9",
   "metadata": {},
   "outputs": [],
   "source": [
    "news['category'] = np.where(news.category == 'Metaverse', 'Cryptocurrencies', news.category)\n",
    "news['content'] = news[\"header\"] + \". \" + news[\"desc\"]\n",
    "news_target_date = filter_news_by_date(start, end, news)\n",
    "news_target_date"
   ]
  },
  {
   "cell_type": "code",
   "execution_count": null,
   "id": "f685d51c",
   "metadata": {},
   "outputs": [],
   "source": [
    "finance_news = news_target_date.drop(['number','author'], axis=1)\n",
    "\n",
    "sentiment_result = pd.DataFrame()\n",
    "fieldnames = ['date','category','content', 'sentiment_score']\n",
    "\n",
    "for index, row in finance_news.iterrows():\n",
    "    date = row['date']\n",
    "    content = preprocess_word(row['header']) + ' ' + preprocess_word(row['desc'])\n",
    "    category = row['category']\n",
    "    \n",
    "    predict_content = predict(content, model, use_gpu=True, gpu_name='cuda:0',batch_size=100)\n",
    "    sentiment_score = predict_content.sentiment_score.mean()\n",
    "    \n",
    "    value = [(date, category, content, sentiment_score)]\n",
    "    \n",
    "    record = pd.DataFrame(value, columns=fieldnames)\n",
    "    sentiment_result = pd.concat([sentiment_result, record], ignore_index=True, axis=0)\n",
    "\n",
    "sentiment_result\n",
    "sentiment_result.to_csv(r\"Data/text_data/{0}_sentiment.csv\".format('News'), sep=\"\\t\")"
   ]
  },
  {
   "cell_type": "code",
   "execution_count": null,
   "id": "f9e182bd",
   "metadata": {},
   "outputs": [],
   "source": [
    "def generate_sentiment(data, symbol):\n",
    "    \n",
    "    data[\"Process Content\"] = data[\"Content\"].apply(lambda x: preprocess_word(x))\n",
    "    data[\"Date\"] = data[\"Date\"].apply(lambda x: pd.to_datetime(x, unit=\"ns\", utc=True).floor('D').date())\n",
    "    data = data.drop(['AuthorID','Author','Content', 'Attachments','Reactions'], axis=1)\n",
    "    data = data.reset_index()\n",
    "    sentiment_result = pd.DataFrame()\n",
    "    fieldnames = ['symbol','date', 'content', 'sentiment_score']\n",
    "    for index, row in data.iterrows():\n",
    "        percent_complete(int(index), int(data.shape[0]),title=\"{0}: Predicting text sentiment analysis\".format(symbol))\n",
    "        symbol = symbol\n",
    "        date = row['Date']\n",
    "        content = row['Process Content']\n",
    "        predict_content = predict(row['Process Content'], model, use_gpu=True, gpu_name='cuda:0',batch_size=100)\n",
    "        sentiment_score = predict_content.sentiment_score.mean()\n",
    "    \n",
    "        value = [(symbol, date, content, sentiment_score)]\n",
    "    \n",
    "        record = pd.DataFrame(value, columns=fieldnames)\n",
    "        sentiment_result = pd.concat([sentiment_result, record], ignore_index=True, axis=0)\n",
    "\n",
    "\n",
    "    sentiment_result\n",
    "    sentiment_result.to_csv(r\"Data/text_data/{0}_sentiment.csv\".format(symbol), sep=\"\\t\")"
   ]
  },
  {
   "cell_type": "code",
   "execution_count": null,
   "id": "590c10bd",
   "metadata": {},
   "outputs": [],
   "source": [
    "def percent_complete(step, total_steps, bar_width=60, title=\"\", print_perc=True):\n",
    "    import sys\n",
    "\n",
    "    # UTF-8 left blocks: 1, 1/8, 1/4, 3/8, 1/2, 5/8, 3/4, 7/8\n",
    "    utf_8s = [\"█\", \"▏\", \"▎\", \"▍\", \"▌\", \"▋\", \"▊\", \"█\"]\n",
    "    perc = 100 * float(step) / float(total_steps)\n",
    "    max_ticks = bar_width * 8\n",
    "    num_ticks = int(round(perc / 100 * max_ticks))\n",
    "    full_ticks = num_ticks / 8      # Number of full blocks\n",
    "    part_ticks = num_ticks % 8      # Size of partial block (array index)\n",
    "    \n",
    "    disp = bar = \"\"                 # Blank out variables\n",
    "    bar += utf_8s[0] * int(full_ticks)   # Add full blocks into Progress Bar\n",
    "    \n",
    "    # If part_ticks is zero, then no partial block, else append part char\n",
    "    if part_ticks > 0:\n",
    "        bar += utf_8s[part_ticks]\n",
    "    \n",
    "    # Pad Progress Bar with fill character\n",
    "    bar += \"▒\" * int((max_ticks/8 - float(num_ticks)/8.0))\n",
    "    \n",
    "    if len(title) > 0:\n",
    "        disp = title + \": \"         # Optional title to progress display\n",
    "    \n",
    "    # Print progress bar in green: https://stackoverflow.com/a/21786287/6929343\n",
    "    disp += \"\\x1b[0;32m\"            # Color Green\n",
    "    disp += bar                     # Progress bar to progress display\n",
    "    disp += \"\\x1b[0m\"               # Color Reset\n",
    "    if print_perc:\n",
    "        # If requested, append percentage complete to progress display\n",
    "        if perc > 100.0:\n",
    "            perc = 100.0            # Fix \"100.04 %\" rounding error\n",
    "        disp += \" {:6.2f}\".format(perc) + \" %\"\n",
    "    \n",
    "    # Output to terminal repetitively over the same line using '\\r'.\n",
    "    sys.stdout.write(\"\\r\" + disp)\n",
    "    sys.stdout.flush()"
   ]
  },
  {
   "cell_type": "markdown",
   "id": "25c27df8",
   "metadata": {},
   "source": [
    "# Process Discord Data to Generate Sentiment Score"
   ]
  },
  {
   "cell_type": "code",
   "execution_count": null,
   "id": "5935e2b5",
   "metadata": {
    "scrolled": true
   },
   "outputs": [],
   "source": [
    "MANA_Announcement = pd.read_csv(r\"Data/discord/Decentraland - announcements (2021-10-01 to 2022-04-30).csv\")\n",
    "generate_sentiment(MANA_Announcement,'MANA_Announcement')"
   ]
  },
  {
   "cell_type": "code",
   "execution_count": null,
   "id": "c44d4c3a",
   "metadata": {},
   "outputs": [],
   "source": [
    "MANA_General = pd.read_csv(r\"Data/discord/Decentraland - general (2021-10-01 to 2022-04-30).csv\")\n",
    "generate_sentiment(MANA_General,'MANA_General')"
   ]
  },
  {
   "cell_type": "code",
   "execution_count": null,
   "id": "8fc80fa5",
   "metadata": {},
   "outputs": [],
   "source": [
    "SAND_Announcement = pd.read_csv(r\"Data/discord/The Sandbox - announcements (2021-10-01 to 2022-04-30).csv\")\n",
    "generate_sentiment(SAND_Announcement,'SAND_Announcement')"
   ]
  },
  {
   "cell_type": "code",
   "execution_count": null,
   "id": "1a5cb5ad",
   "metadata": {},
   "outputs": [],
   "source": [
    "SAND_General = pd.read_csv(r\"Data/discord/The Sandbox - general (2021-10-01 to 2022-04-30).csv\")\n",
    "generate_sentiment(SAND_General,'SAND_General')"
   ]
  },
  {
   "cell_type": "code",
   "execution_count": null,
   "id": "01a01ab9",
   "metadata": {},
   "outputs": [],
   "source": [
    "THETA_Announcement = pd.read_csv(r\"Data/discord/Theta Network - announcements (2021-10-01 to 2022-04-30).csv\")\n",
    "generate_sentiment(THETA_Announcement,'THETA_Announcement')"
   ]
  },
  {
   "cell_type": "code",
   "execution_count": null,
   "id": "ee0dab5e",
   "metadata": {},
   "outputs": [],
   "source": [
    "THETA_General = pd.read_csv(r\"Data/discord/Theta Network - general (2021-10-01 to 2022-04-30).csv\")\n",
    "generate_sentiment(THETA_General,'THETA_General')"
   ]
  },
  {
   "cell_type": "code",
   "execution_count": null,
   "id": "565e70ec",
   "metadata": {},
   "outputs": [],
   "source": [
    "STX_Announcement = pd.read_csv(r\"Data/discord/Stacks - announcements (2021-10-01 to 2022-04-30).csv\")\n",
    "generate_sentiment(STX_Announcement,'STX_Announcement')"
   ]
  },
  {
   "cell_type": "code",
   "execution_count": null,
   "id": "ff80e0b6",
   "metadata": {},
   "outputs": [],
   "source": [
    "STX_General = pd.read_csv(r\"Data/discord/Stacks - general (2021-10-01 to 2022-04-30).csv\")\n",
    "generate_sentiment(STX_General,'STX_General')"
   ]
  },
  {
   "cell_type": "code",
   "execution_count": null,
   "id": "737f856d",
   "metadata": {},
   "outputs": [],
   "source": [
    "AXS_Announcement = pd.read_csv(r\"Data/discord/Axie Infinity - announcements (2021-10-01 to 2022-04-30).csv\")\n",
    "generate_sentiment(AXS_Announcement,'AXS_Announcement')"
   ]
  },
  {
   "cell_type": "code",
   "execution_count": null,
   "id": "75a4a2f8",
   "metadata": {},
   "outputs": [],
   "source": [
    "AXS_Discussion_1 = pd.read_csv(r\"Data/discord/Axie Infinity - general (2021-10-21 to 2021-12-11).csv\")\n",
    "AXS_Discussion_2 = pd.read_csv(r\"Data/discord/Axie Infinity - general (2021-12-12 to 2022-04-25).csv\")\n",
    "AXS_Discussion = AXS_Discussion_1.append(AXS_Discussion_2, ignore_index=True)\n",
    "AXS_Discussion = AXS_Discussion.reset_index()\n",
    "AXS_Discussion = AXS_Discussion.set_index(\"index\")\n",
    "\n",
    "generate_sentiment(AXS_Discussion,'AXS_General')"
   ]
  },
  {
   "cell_type": "code",
   "execution_count": null,
   "id": "9353ffde",
   "metadata": {},
   "outputs": [],
   "source": []
  }
 ],
 "metadata": {
  "kernelspec": {
   "display_name": "Python 3 (ipykernel)",
   "language": "python",
   "name": "python3"
  },
  "language_info": {
   "codemirror_mode": {
    "name": "ipython",
    "version": 3
   },
   "file_extension": ".py",
   "mimetype": "text/x-python",
   "name": "python",
   "nbconvert_exporter": "python",
   "pygments_lexer": "ipython3",
   "version": "3.8.13"
  }
 },
 "nbformat": 4,
 "nbformat_minor": 5
}
