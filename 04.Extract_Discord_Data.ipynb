{
 "cells": [
  {
   "cell_type": "markdown",
   "id": "28fdafa6",
   "metadata": {},
   "source": [
    "# Export Discord Data\n",
    "Use discord chat export to export the target discussion into cvs format. Following link is the tools and details steps to export data\n",
    "https://github.com/Tyrrrz/DiscordChatExporter\n",
    "\n",
    "In this chapter, we mainly export only announcement and general discussion from the target group. "
   ]
  },
  {
   "cell_type": "markdown",
   "id": "2ccc83de",
   "metadata": {},
   "source": [
    "# Explore discord data"
   ]
  },
  {
   "cell_type": "code",
   "execution_count": 12,
   "id": "ded0954e",
   "metadata": {},
   "outputs": [],
   "source": [
    "import json\n",
    "import pandas as pd\n",
    "import numpy as np\n",
    "import datetime as dt\n",
    "import warnings\n",
    "import matplotlib.pyplot as plt\n",
    "import pandas_datareader as web\n",
    "warnings.filterwarnings(\"ignore\")"
   ]
  },
  {
   "cell_type": "code",
   "execution_count": 2,
   "id": "5db71b31",
   "metadata": {},
   "outputs": [],
   "source": [
    "#identify specific date to extract\n",
    "start = dt.datetime(2021,10,1)\n",
    "end = dt.datetime(2022,4,30)\n",
    "\n",
    "#2021-10-01 to 2022-04-30"
   ]
  },
  {
   "cell_type": "code",
   "execution_count": 3,
   "id": "7d902021",
   "metadata": {},
   "outputs": [],
   "source": [
    "#extract data from yahoo finance\n",
    "MANA = web.DataReader('MANA-USD','yahoo', start, end)\n",
    "SAND = web.DataReader('SAND-USD','yahoo', start, end)\n",
    "THETA = web.DataReader('THETA-USD','yahoo', start, end)\n",
    "AXS = web.DataReader('AXS-USD','yahoo', start, end)\n",
    "STX = web.DataReader('STX-USD','yahoo', start, end)"
   ]
  },
  {
   "cell_type": "code",
   "execution_count": 4,
   "id": "467bd898",
   "metadata": {},
   "outputs": [],
   "source": [
    "MANA = MANA.reset_index()\n",
    "SAND = SAND.reset_index()\n",
    "THETA = THETA.reset_index()\n",
    "AXS = AXS.reset_index()\n",
    "STX = STX.reset_index()"
   ]
  },
  {
   "cell_type": "code",
   "execution_count": 5,
   "id": "ecbeba76",
   "metadata": {},
   "outputs": [],
   "source": [
    "def match_date(start, end, data):\n",
    "    data.Date = pd.to_datetime(data.Date)\n",
    "    data = data[(data['Date'] >= start) & (data['Date'] <= end)]\n",
    "    data[\"Date\"] = data[\"Date\"].apply(lambda x: pd.to_datetime(x, unit=\"ns\", utc=True).floor('D').date())\n",
    "    #data.columns = data.columns.str.replace('Date', 'date')\n",
    "    return data"
   ]
  },
  {
   "cell_type": "code",
   "execution_count": 6,
   "id": "d04edbe5",
   "metadata": {},
   "outputs": [],
   "source": [
    "MANA = match_date(start, end, MANA)\n",
    "SAND = match_date(start, end, SAND)\n",
    "THETA = match_date(start, end, THETA)\n",
    "AXS = match_date(start, end, AXS)\n",
    "STX = match_date(start, end, STX)\n",
    "\n",
    "#add pct change column\n",
    "ClosingPrice = MANA[['Adj Close']]\n",
    "MANA['pct_change'] = ClosingPrice.pct_change()*100\n",
    "#add pct change column\n",
    "ClosingPrice = SAND[['Adj Close']]\n",
    "SAND['pct_change'] = ClosingPrice.pct_change()*100\n",
    "#add pct change column\n",
    "ClosingPrice = THETA[['Adj Close']]\n",
    "THETA['pct_change'] = ClosingPrice.pct_change()*100\n",
    "#add pct change column\n",
    "ClosingPrice = AXS[['Adj Close']]\n",
    "AXS['pct_change'] = ClosingPrice.pct_change()*100\n",
    "#add pct change column\n",
    "ClosingPrice = STX[['Adj Close']]\n",
    "STX['pct_change'] = ClosingPrice.pct_change()*100\n",
    "\n",
    "MANA = MANA.set_index('Date')\n",
    "SAND = SAND.set_index('Date')\n",
    "THETA = THETA.set_index('Date')\n",
    "AXS = AXS.set_index('Date')\n",
    "STX = STX.set_index('Date')"
   ]
  },
  {
   "cell_type": "code",
   "execution_count": 7,
   "id": "a0c72fa1",
   "metadata": {},
   "outputs": [],
   "source": [
    "import matplotlib.ticker as ticker\n",
    "\n",
    "def plot_count_content_by_week(data, title):\n",
    "\n",
    "    # create a Series, grouping by week\n",
    "    weekly_series = data.groupby(pd.Grouper(key='Date', freq='W-MON'))['Content'].count()\n",
    "    # and plot it\n",
    "    ax =weekly_series.plot(kind='bar')\n",
    "\n",
    "    # Set title and labels for axes\n",
    "    ax.set(xlabel=\"Date\",\n",
    "       ylabel=\"Count transactions\",\n",
    "       title=\"{0} frequency transactions by week\".format(title))\n",
    "    \n",
    "    # Make most of the ticklabels empty so the labels don't get too crowded\n",
    "    ticklabels = ['']*len(weekly_series.index)\n",
    "    # Every 4th ticklable shows the month and day\n",
    "    ticklabels[::4] = [item.strftime('%b %d') for item in weekly_series.index[::4]]\n",
    "    # Every 12th ticklabel includes the year\n",
    "    ticklabels[::12] = [item.strftime('%b %d\\n%Y') for item in weekly_series.index[::12]]\n",
    "    ax.xaxis.set_major_formatter(ticker.FixedFormatter(ticklabels))\n",
    "    \n",
    "    plt.gcf().autofmt_xdate()\n",
    "\n",
    "    plt.show()\n",
    "    "
   ]
  },
  {
   "cell_type": "code",
   "execution_count": 8,
   "id": "e1657015",
   "metadata": {},
   "outputs": [],
   "source": [
    "MANA_Announcement = pd.read_csv(r\"Data/discord/Decentraland - announcements (2021-10-01 to 2022-04-30).csv\", sep=\",\")\n",
    "MANA_Discussion = pd.read_csv(r\"Data/discord/Decentraland - general (2021-10-01 to 2022-04-30).csv\", sep=\",\")\n",
    "\n",
    "MANA_Announcement[\"Date\"] = MANA_Announcement[\"Date\"].apply(lambda x: pd.to_datetime(x, unit=\"ns\", utc=True).floor('D').date())\n",
    "MANA_Announcement[\"Date\"] = MANA_Announcement[\"Date\"].apply(lambda x: pd.to_datetime(x, format='%Y-%m-%d'))\n",
    "MANA_Discussion[\"Date\"] = MANA_Discussion[\"Date\"].apply(lambda x: pd.to_datetime(x, unit=\"ns\", utc=True).floor('D').date())\n",
    "MANA_Discussion[\"Date\"] = MANA_Discussion[\"Date\"].apply(lambda x: pd.to_datetime(x, format='%Y-%m-%d'))"
   ]
  },
  {
   "cell_type": "code",
   "execution_count": 9,
   "id": "c353b438",
   "metadata": {},
   "outputs": [],
   "source": [
    "MANA_Announcement_By_Daily_Count=MANA_Announcement.groupby(pd.Grouper(key='Date', freq='D'))['Content'].count()\n",
    "MANA_Discussion_By_Daily_Count=MANA_Discussion.groupby(pd.Grouper(key='Date', freq='D'))['Content'].count()"
   ]
  },
  {
   "cell_type": "code",
   "execution_count": 10,
   "id": "7fa37162",
   "metadata": {},
   "outputs": [],
   "source": [
    "#join data\n",
    "MANA_Ann_Merge = MANA.join(MANA_Announcement_By_Daily_Count)\n",
    "MANA_Ann_Merge = MANA_Ann_Merge.fillna(0)\n",
    "MANA_Ann_Filter = MANA_Ann_Merge[MANA_Ann_Merge[\"Content\"]>0].reset_index()\n",
    "\n",
    "#join data\n",
    "MANA_Discussion_Merge = MANA.join(MANA_Discussion_By_Daily_Count)\n",
    "MANA_Discussion_Merge = MANA_Discussion_Merge.fillna(0)\n",
    "MANA_Discussion_Filter = MANA_Discussion_Merge[MANA_Discussion_Merge[\"Content\"]>0].reset_index()"
   ]
  },
  {
   "cell_type": "code",
   "execution_count": 13,
   "id": "0e87cdf1",
   "metadata": {},
   "outputs": [
    {
     "data": {
      "image/png": "[encoded data removed]",
      "text/plain": [
       "<Figure size 432x288 with 1 Axes>"
      ]
     },
     "metadata": {
      "needs_background": "light"
     },
     "output_type": "display_data"
    },
    {
     "data": {
      "image/png": "[encoded data removed]",
      "text/plain": [
       "<Figure size 432x288 with 1 Axes>"
      ]
     },
     "metadata": {
      "needs_background": "light"
     },
     "output_type": "display_data"
    }
   ],
   "source": [
    "plot_count_content_by_week(MANA_Announcement, \"Mana announcement\")\n",
    "plot_count_content_by_week(MANA_Discussion, \"Mana discussion\")\n",
    "#plot_count_content_by_week(MANA_Discussion, \"Mana discussion\")"
   ]
  },
  {
   "cell_type": "code",
   "execution_count": 14,
   "id": "30316c88",
   "metadata": {},
   "outputs": [
    {
     "data": {
      "text/html": [
       "<div>\n",
       "<style scoped>\n",
       "    .dataframe tbody tr th:only-of-type {\n",
       "        vertical-align: middle;\n",
       "    }\n",
       "\n",
       "    .dataframe tbody tr th {\n",
       "        vertical-align: top;\n",
       "    }\n",
       "\n",
       "    .dataframe thead th {\n",
       "        text-align: right;\n",
       "    }\n",
       "</style>\n",
       "<table border=\"1\" class=\"dataframe\">\n",
       "  <thead>\n",
       "    <tr style=\"text-align: right;\">\n",
       "      <th></th>\n",
       "      <th>Content</th>\n",
       "    </tr>\n",
       "  </thead>\n",
       "  <tbody>\n",
       "    <tr>\n",
       "      <th>count</th>\n",
       "      <td>74</td>\n",
       "    </tr>\n",
       "    <tr>\n",
       "      <th>unique</th>\n",
       "      <td>74</td>\n",
       "    </tr>\n",
       "    <tr>\n",
       "      <th>top</th>\n",
       "      <td>@everyone The countdown begins. Four days of m...</td>\n",
       "    </tr>\n",
       "    <tr>\n",
       "      <th>freq</th>\n",
       "      <td>1</td>\n",
       "    </tr>\n",
       "  </tbody>\n",
       "</table>\n",
       "</div>"
      ],
      "text/plain": [
       "                                                  Content\n",
       "count                                                  74\n",
       "unique                                                 74\n",
       "top     @everyone The countdown begins. Four days of m...\n",
       "freq                                                    1"
      ]
     },
     "execution_count": 14,
     "metadata": {},
     "output_type": "execute_result"
    }
   ],
   "source": [
    "MANA_Announcement[[\"Content\"]].describe()"
   ]
  },
  {
   "cell_type": "code",
   "execution_count": 15,
   "id": "3c26ed7a",
   "metadata": {},
   "outputs": [
    {
     "data": {
      "text/html": [
       "<div>\n",
       "<style scoped>\n",
       "    .dataframe tbody tr th:only-of-type {\n",
       "        vertical-align: middle;\n",
       "    }\n",
       "\n",
       "    .dataframe tbody tr th {\n",
       "        vertical-align: top;\n",
       "    }\n",
       "\n",
       "    .dataframe thead th {\n",
       "        text-align: right;\n",
       "    }\n",
       "</style>\n",
       "<table border=\"1\" class=\"dataframe\">\n",
       "  <thead>\n",
       "    <tr style=\"text-align: right;\">\n",
       "      <th></th>\n",
       "      <th>Content</th>\n",
       "    </tr>\n",
       "  </thead>\n",
       "  <tbody>\n",
       "    <tr>\n",
       "      <th>count</th>\n",
       "      <td>92502</td>\n",
       "    </tr>\n",
       "    <tr>\n",
       "      <th>unique</th>\n",
       "      <td>81709</td>\n",
       "    </tr>\n",
       "    <tr>\n",
       "      <th>top</th>\n",
       "      <td>hi</td>\n",
       "    </tr>\n",
       "    <tr>\n",
       "      <th>freq</th>\n",
       "      <td>278</td>\n",
       "    </tr>\n",
       "  </tbody>\n",
       "</table>\n",
       "</div>"
      ],
      "text/plain": [
       "       Content\n",
       "count    92502\n",
       "unique   81709\n",
       "top         hi\n",
       "freq       278"
      ]
     },
     "execution_count": 15,
     "metadata": {},
     "output_type": "execute_result"
    }
   ],
   "source": [
    "MANA_Discussion[[\"Content\"]].describe()"
   ]
  },
  {
   "cell_type": "code",
   "execution_count": 16,
   "id": "bb25a0f4",
   "metadata": {},
   "outputs": [],
   "source": [
    "SAND_Announcement = pd.read_csv(r\"Data/discord/The Sandbox - announcements (2021-10-01 to 2022-04-30).csv\", sep=\",\")\n",
    "SAND_Discussion = pd.read_csv(r\"Data/discord/The Sandbox - general (2021-10-01 to 2022-04-30).csv\", sep=\",\")\n",
    "\n",
    "SAND_Announcement[\"Date\"] = SAND_Announcement[\"Date\"].apply(lambda x: pd.to_datetime(x, unit=\"ns\", utc=True).floor('D').date())\n",
    "SAND_Announcement[\"Date\"] = SAND_Announcement[\"Date\"].apply(lambda x: pd.to_datetime(x, format='%Y-%m-%d'))\n",
    "SAND_Discussion[\"Date\"] = SAND_Discussion[\"Date\"].apply(lambda x: pd.to_datetime(x, unit=\"ns\", utc=True).floor('D').date())\n",
    "SAND_Discussion[\"Date\"] = SAND_Discussion[\"Date\"].apply(lambda x: pd.to_datetime(x, format='%Y-%m-%d'))"
   ]
  },
  {
   "cell_type": "code",
   "execution_count": 17,
   "id": "c293b098",
   "metadata": {},
   "outputs": [
    {
     "data": {
      "image/png": "[encoded data removed]",
      "text/plain": [
       "<Figure size 432x288 with 1 Axes>"
      ]
     },
     "metadata": {
      "needs_background": "light"
     },
     "output_type": "display_data"
    },
    {
     "data": {
      "image/png": "[encoded data removed]",
      "text/plain": [
       "<Figure size 432x288 with 1 Axes>"
      ]
     },
     "metadata": {
      "needs_background": "light"
     },
     "output_type": "display_data"
    }
   ],
   "source": [
    "plot_count_content_by_week(SAND_Announcement, \"Sand announcement\")\n",
    "plot_count_content_by_week(SAND_Discussion, \"Sand discussion\")"
   ]
  },
  {
   "cell_type": "code",
   "execution_count": 18,
   "id": "d8a75391",
   "metadata": {},
   "outputs": [
    {
     "data": {
      "text/html": [
       "<div>\n",
       "<style scoped>\n",
       "    .dataframe tbody tr th:only-of-type {\n",
       "        vertical-align: middle;\n",
       "    }\n",
       "\n",
       "    .dataframe tbody tr th {\n",
       "        vertical-align: top;\n",
       "    }\n",
       "\n",
       "    .dataframe thead th {\n",
       "        text-align: right;\n",
       "    }\n",
       "</style>\n",
       "<table border=\"1\" class=\"dataframe\">\n",
       "  <thead>\n",
       "    <tr style=\"text-align: right;\">\n",
       "      <th></th>\n",
       "      <th>Content</th>\n",
       "    </tr>\n",
       "  </thead>\n",
       "  <tbody>\n",
       "    <tr>\n",
       "      <th>count</th>\n",
       "      <td>83</td>\n",
       "    </tr>\n",
       "    <tr>\n",
       "      <th>unique</th>\n",
       "      <td>80</td>\n",
       "    </tr>\n",
       "    <tr>\n",
       "      <th>top</th>\n",
       "      <td>@everyone</td>\n",
       "    </tr>\n",
       "    <tr>\n",
       "      <th>freq</th>\n",
       "      <td>4</td>\n",
       "    </tr>\n",
       "  </tbody>\n",
       "</table>\n",
       "</div>"
      ],
      "text/plain": [
       "          Content\n",
       "count          83\n",
       "unique         80\n",
       "top     @everyone\n",
       "freq            4"
      ]
     },
     "execution_count": 18,
     "metadata": {},
     "output_type": "execute_result"
    }
   ],
   "source": [
    "SAND_Announcement[[\"Content\"]].describe()"
   ]
  },
  {
   "cell_type": "code",
   "execution_count": 19,
   "id": "a64635a2",
   "metadata": {},
   "outputs": [
    {
     "data": {
      "text/html": [
       "<div>\n",
       "<style scoped>\n",
       "    .dataframe tbody tr th:only-of-type {\n",
       "        vertical-align: middle;\n",
       "    }\n",
       "\n",
       "    .dataframe tbody tr th {\n",
       "        vertical-align: top;\n",
       "    }\n",
       "\n",
       "    .dataframe thead th {\n",
       "        text-align: right;\n",
       "    }\n",
       "</style>\n",
       "<table border=\"1\" class=\"dataframe\">\n",
       "  <thead>\n",
       "    <tr style=\"text-align: right;\">\n",
       "      <th></th>\n",
       "      <th>Content</th>\n",
       "    </tr>\n",
       "  </thead>\n",
       "  <tbody>\n",
       "    <tr>\n",
       "      <th>count</th>\n",
       "      <td>366716</td>\n",
       "    </tr>\n",
       "    <tr>\n",
       "      <th>unique</th>\n",
       "      <td>321242</td>\n",
       "    </tr>\n",
       "    <tr>\n",
       "      <th>top</th>\n",
       "      <td>hi</td>\n",
       "    </tr>\n",
       "    <tr>\n",
       "      <th>freq</th>\n",
       "      <td>1191</td>\n",
       "    </tr>\n",
       "  </tbody>\n",
       "</table>\n",
       "</div>"
      ],
      "text/plain": [
       "       Content\n",
       "count   366716\n",
       "unique  321242\n",
       "top         hi\n",
       "freq      1191"
      ]
     },
     "execution_count": 19,
     "metadata": {},
     "output_type": "execute_result"
    }
   ],
   "source": [
    "SAND_Discussion[[\"Content\"]].describe()"
   ]
  },
  {
   "cell_type": "code",
   "execution_count": 20,
   "id": "c7213a33",
   "metadata": {},
   "outputs": [],
   "source": [
    "THETA_Announcement = pd.read_csv(r\"Data/discord/Theta Network - announcements (2021-10-01 to 2022-04-30).csv\", sep=\",\")\n",
    "THETA_Discussion = pd.read_csv(r\"Data/discord/Theta Network - general (2021-10-01 to 2022-04-30).csv\", sep=\",\")\n",
    "\n",
    "THETA_Announcement[\"Date\"] = THETA_Announcement[\"Date\"].apply(lambda x: pd.to_datetime(x, unit=\"ns\", utc=True).floor('D').date())\n",
    "THETA_Announcement[\"Date\"] = THETA_Announcement[\"Date\"].apply(lambda x: pd.to_datetime(x, format='%Y-%m-%d'))\n",
    "THETA_Discussion[\"Date\"] = THETA_Discussion[\"Date\"].apply(lambda x: pd.to_datetime(x, unit=\"ns\", utc=True).floor('D').date())\n",
    "THETA_Discussion[\"Date\"] = THETA_Discussion[\"Date\"].apply(lambda x: pd.to_datetime(x, format='%Y-%m-%d'))"
   ]
  },
  {
   "cell_type": "code",
   "execution_count": 21,
   "id": "6f15c60f",
   "metadata": {},
   "outputs": [
    {
     "data": {
      "image/png": "[encoded data removed]",
      "text/plain": [
       "<Figure size 432x288 with 1 Axes>"
      ]
     },
     "metadata": {
      "needs_background": "light"
     },
     "output_type": "display_data"
    },
    {
     "data": {
      "image/png": "[encoded data removed]",
      "text/plain": [
       "<Figure size 432x288 with 1 Axes>"
      ]
     },
     "metadata": {
      "needs_background": "light"
     },
     "output_type": "display_data"
    }
   ],
   "source": [
    "plot_count_content_by_week(THETA_Announcement, \"Theta announcement\")\n",
    "plot_count_content_by_week(THETA_Discussion, \"Theta discussion\")"
   ]
  },
  {
   "cell_type": "code",
   "execution_count": 22,
   "id": "a8586b60",
   "metadata": {},
   "outputs": [
    {
     "data": {
      "text/html": [
       "<div>\n",
       "<style scoped>\n",
       "    .dataframe tbody tr th:only-of-type {\n",
       "        vertical-align: middle;\n",
       "    }\n",
       "\n",
       "    .dataframe tbody tr th {\n",
       "        vertical-align: top;\n",
       "    }\n",
       "\n",
       "    .dataframe thead th {\n",
       "        text-align: right;\n",
       "    }\n",
       "</style>\n",
       "<table border=\"1\" class=\"dataframe\">\n",
       "  <thead>\n",
       "    <tr style=\"text-align: right;\">\n",
       "      <th></th>\n",
       "      <th>Content</th>\n",
       "    </tr>\n",
       "  </thead>\n",
       "  <tbody>\n",
       "    <tr>\n",
       "      <th>count</th>\n",
       "      <td>69</td>\n",
       "    </tr>\n",
       "    <tr>\n",
       "      <th>unique</th>\n",
       "      <td>69</td>\n",
       "    </tr>\n",
       "    <tr>\n",
       "      <th>top</th>\n",
       "      <td>Introducing the new Theta Video API service, g...</td>\n",
       "    </tr>\n",
       "    <tr>\n",
       "      <th>freq</th>\n",
       "      <td>1</td>\n",
       "    </tr>\n",
       "  </tbody>\n",
       "</table>\n",
       "</div>"
      ],
      "text/plain": [
       "                                                  Content\n",
       "count                                                  69\n",
       "unique                                                 69\n",
       "top     Introducing the new Theta Video API service, g...\n",
       "freq                                                    1"
      ]
     },
     "execution_count": 22,
     "metadata": {},
     "output_type": "execute_result"
    }
   ],
   "source": [
    "THETA_Announcement[[\"Content\"]].describe()"
   ]
  },
  {
   "cell_type": "code",
   "execution_count": 23,
   "id": "5d454bd7",
   "metadata": {},
   "outputs": [
    {
     "data": {
      "text/html": [
       "<div>\n",
       "<style scoped>\n",
       "    .dataframe tbody tr th:only-of-type {\n",
       "        vertical-align: middle;\n",
       "    }\n",
       "\n",
       "    .dataframe tbody tr th {\n",
       "        vertical-align: top;\n",
       "    }\n",
       "\n",
       "    .dataframe thead th {\n",
       "        text-align: right;\n",
       "    }\n",
       "</style>\n",
       "<table border=\"1\" class=\"dataframe\">\n",
       "  <thead>\n",
       "    <tr style=\"text-align: right;\">\n",
       "      <th></th>\n",
       "      <th>Content</th>\n",
       "    </tr>\n",
       "  </thead>\n",
       "  <tbody>\n",
       "    <tr>\n",
       "      <th>count</th>\n",
       "      <td>24696</td>\n",
       "    </tr>\n",
       "    <tr>\n",
       "      <th>unique</th>\n",
       "      <td>22776</td>\n",
       "    </tr>\n",
       "    <tr>\n",
       "      <th>top</th>\n",
       "      <td>⚠️📢 Real admin/mods only talk here in this cha...</td>\n",
       "    </tr>\n",
       "    <tr>\n",
       "      <th>freq</th>\n",
       "      <td>129</td>\n",
       "    </tr>\n",
       "  </tbody>\n",
       "</table>\n",
       "</div>"
      ],
      "text/plain": [
       "                                                  Content\n",
       "count                                               24696\n",
       "unique                                              22776\n",
       "top     ⚠️📢 Real admin/mods only talk here in this cha...\n",
       "freq                                                  129"
      ]
     },
     "execution_count": 23,
     "metadata": {},
     "output_type": "execute_result"
    }
   ],
   "source": [
    "THETA_Discussion[[\"Content\"]].describe()"
   ]
  },
  {
   "cell_type": "code",
   "execution_count": 24,
   "id": "1e3f60be",
   "metadata": {},
   "outputs": [],
   "source": [
    "STX_Announcement = pd.read_csv(r\"Data/discord/Stacks - announcements (2021-10-01 to 2022-04-30).csv\", sep=\",\")\n",
    "STX_Discussion = pd.read_csv(r\"Data/discord/Stacks - general (2021-10-01 to 2022-04-30).csv\", sep=\",\")\n",
    "\n",
    "STX_Announcement[\"Date\"] = STX_Announcement[\"Date\"].apply(lambda x: pd.to_datetime(x, unit=\"ns\", utc=True).floor('D').date())\n",
    "STX_Announcement[\"Date\"] = STX_Announcement[\"Date\"].apply(lambda x: pd.to_datetime(x, format='%Y-%m-%d'))\n",
    "STX_Discussion[\"Date\"] = STX_Discussion[\"Date\"].apply(lambda x: pd.to_datetime(x, unit=\"ns\", utc=True).floor('D').date())\n",
    "STX_Discussion[\"Date\"] = STX_Discussion[\"Date\"].apply(lambda x: pd.to_datetime(x, format='%Y-%m-%d'))"
   ]
  },
  {
   "cell_type": "code",
   "execution_count": 25,
   "id": "e2cfcc1e",
   "metadata": {},
   "outputs": [
    {
     "data": {
      "image/png": "[encoded data removed]",
      "text/plain": [
       "<Figure size 432x288 with 1 Axes>"
      ]
     },
     "metadata": {
      "needs_background": "light"
     },
     "output_type": "display_data"
    },
    {
     "data": {
      "image/png": "[encoded data removed]",
      "text/plain": [
       "<Figure size 432x288 with 1 Axes>"
      ]
     },
     "metadata": {
      "needs_background": "light"
     },
     "output_type": "display_data"
    }
   ],
   "source": [
    "plot_count_content_by_week(STX_Announcement, \"STX announcement\")\n",
    "plot_count_content_by_week(STX_Discussion, \"STX discussion\")"
   ]
  },
  {
   "cell_type": "code",
   "execution_count": 26,
   "id": "14d45bdc",
   "metadata": {},
   "outputs": [
    {
     "data": {
      "text/html": [
       "<div>\n",
       "<style scoped>\n",
       "    .dataframe tbody tr th:only-of-type {\n",
       "        vertical-align: middle;\n",
       "    }\n",
       "\n",
       "    .dataframe tbody tr th {\n",
       "        vertical-align: top;\n",
       "    }\n",
       "\n",
       "    .dataframe thead th {\n",
       "        text-align: right;\n",
       "    }\n",
       "</style>\n",
       "<table border=\"1\" class=\"dataframe\">\n",
       "  <thead>\n",
       "    <tr style=\"text-align: right;\">\n",
       "      <th></th>\n",
       "      <th>Content</th>\n",
       "    </tr>\n",
       "  </thead>\n",
       "  <tbody>\n",
       "    <tr>\n",
       "      <th>count</th>\n",
       "      <td>42</td>\n",
       "    </tr>\n",
       "    <tr>\n",
       "      <th>unique</th>\n",
       "      <td>42</td>\n",
       "    </tr>\n",
       "    <tr>\n",
       "      <th>top</th>\n",
       "      <td>@here Hey Stacks folks, we just published a po...</td>\n",
       "    </tr>\n",
       "    <tr>\n",
       "      <th>freq</th>\n",
       "      <td>1</td>\n",
       "    </tr>\n",
       "  </tbody>\n",
       "</table>\n",
       "</div>"
      ],
      "text/plain": [
       "                                                  Content\n",
       "count                                                  42\n",
       "unique                                                 42\n",
       "top     @here Hey Stacks folks, we just published a po...\n",
       "freq                                                    1"
      ]
     },
     "execution_count": 26,
     "metadata": {},
     "output_type": "execute_result"
    }
   ],
   "source": [
    "STX_Announcement[[\"Content\"]].describe()"
   ]
  },
  {
   "cell_type": "code",
   "execution_count": 27,
   "id": "a949b098",
   "metadata": {},
   "outputs": [
    {
     "data": {
      "text/html": [
       "<div>\n",
       "<style scoped>\n",
       "    .dataframe tbody tr th:only-of-type {\n",
       "        vertical-align: middle;\n",
       "    }\n",
       "\n",
       "    .dataframe tbody tr th {\n",
       "        vertical-align: top;\n",
       "    }\n",
       "\n",
       "    .dataframe thead th {\n",
       "        text-align: right;\n",
       "    }\n",
       "</style>\n",
       "<table border=\"1\" class=\"dataframe\">\n",
       "  <thead>\n",
       "    <tr style=\"text-align: right;\">\n",
       "      <th></th>\n",
       "      <th>Content</th>\n",
       "    </tr>\n",
       "  </thead>\n",
       "  <tbody>\n",
       "    <tr>\n",
       "      <th>count</th>\n",
       "      <td>11344</td>\n",
       "    </tr>\n",
       "    <tr>\n",
       "      <th>unique</th>\n",
       "      <td>10455</td>\n",
       "    </tr>\n",
       "    <tr>\n",
       "      <th>top</th>\n",
       "      <td>Hi</td>\n",
       "    </tr>\n",
       "    <tr>\n",
       "      <th>freq</th>\n",
       "      <td>128</td>\n",
       "    </tr>\n",
       "  </tbody>\n",
       "</table>\n",
       "</div>"
      ],
      "text/plain": [
       "       Content\n",
       "count    11344\n",
       "unique   10455\n",
       "top         Hi\n",
       "freq       128"
      ]
     },
     "execution_count": 27,
     "metadata": {},
     "output_type": "execute_result"
    }
   ],
   "source": [
    "STX_Discussion[[\"Content\"]].describe()"
   ]
  },
  {
   "cell_type": "code",
   "execution_count": 28,
   "id": "6077f004",
   "metadata": {},
   "outputs": [],
   "source": [
    "AXS_Announcement = pd.read_csv(r\"Data/discord/Axie Infinity - announcements (2021-10-01 to 2022-04-30).csv\", sep=\",\")\n",
    "AXS_Discussion_1 = pd.read_csv(r\"Data/discord/Axie Infinity - general (2021-10-21 to 2021-12-11).csv\", sep=\",\")\n",
    "AXS_Discussion_2 = pd.read_csv(r\"Data/discord/Axie Infinity - general (2021-12-12 to 2022-04-25).csv\", sep=\",\")"
   ]
  },
  {
   "cell_type": "code",
   "execution_count": 29,
   "id": "67f68649",
   "metadata": {},
   "outputs": [],
   "source": [
    "AXS_Discussion = AXS_Discussion_1.append(AXS_Discussion_2, ignore_index=True)\n",
    "AXS_Discussion = AXS_Discussion.reset_index()\n",
    "AXS_Discussion = AXS_Discussion.set_index(\"index\")\n",
    "\n",
    "AXS_Announcement[\"Date\"] = AXS_Announcement[\"Date\"].apply(lambda x: pd.to_datetime(x, unit=\"ns\", utc=True).floor('D').date())\n",
    "AXS_Announcement[\"Date\"] = AXS_Announcement[\"Date\"].apply(lambda x: pd.to_datetime(x, format='%Y-%m-%d'))\n",
    "AXS_Discussion[\"Date\"] = AXS_Discussion[\"Date\"].apply(lambda x: pd.to_datetime(x, unit=\"ns\", utc=True).floor('D').date())\n",
    "AXS_Discussion[\"Date\"] = AXS_Discussion[\"Date\"].apply(lambda x: pd.to_datetime(x, format='%Y-%m-%d'))"
   ]
  },
  {
   "cell_type": "code",
   "execution_count": 30,
   "id": "076d9455",
   "metadata": {},
   "outputs": [
    {
     "data": {
      "image/png": "[encoded data removed]",
      "text/plain": [
       "<Figure size 432x288 with 1 Axes>"
      ]
     },
     "metadata": {
      "needs_background": "light"
     },
     "output_type": "display_data"
    },
    {
     "data": {
      "image/png": "[encoded data removed]",
      "text/plain": [
       "<Figure size 432x288 with 1 Axes>"
      ]
     },
     "metadata": {
      "needs_background": "light"
     },
     "output_type": "display_data"
    }
   ],
   "source": [
    "plot_count_content_by_week(AXS_Announcement, \"AXS announcement\")\n",
    "plot_count_content_by_week(AXS_Discussion, \"AXS discussion\")"
   ]
  },
  {
   "cell_type": "code",
   "execution_count": 31,
   "id": "1a415922",
   "metadata": {},
   "outputs": [
    {
     "data": {
      "text/html": [
       "<div>\n",
       "<style scoped>\n",
       "    .dataframe tbody tr th:only-of-type {\n",
       "        vertical-align: middle;\n",
       "    }\n",
       "\n",
       "    .dataframe tbody tr th {\n",
       "        vertical-align: top;\n",
       "    }\n",
       "\n",
       "    .dataframe thead th {\n",
       "        text-align: right;\n",
       "    }\n",
       "</style>\n",
       "<table border=\"1\" class=\"dataframe\">\n",
       "  <thead>\n",
       "    <tr style=\"text-align: right;\">\n",
       "      <th></th>\n",
       "      <th>Content</th>\n",
       "    </tr>\n",
       "  </thead>\n",
       "  <tbody>\n",
       "    <tr>\n",
       "      <th>count</th>\n",
       "      <td>208</td>\n",
       "    </tr>\n",
       "    <tr>\n",
       "      <th>unique</th>\n",
       "      <td>197</td>\n",
       "    </tr>\n",
       "    <tr>\n",
       "      <th>top</th>\n",
       "      <td>@here</td>\n",
       "    </tr>\n",
       "    <tr>\n",
       "      <th>freq</th>\n",
       "      <td>5</td>\n",
       "    </tr>\n",
       "  </tbody>\n",
       "</table>\n",
       "</div>"
      ],
      "text/plain": [
       "       Content\n",
       "count      208\n",
       "unique     197\n",
       "top      @here\n",
       "freq         5"
      ]
     },
     "execution_count": 31,
     "metadata": {},
     "output_type": "execute_result"
    }
   ],
   "source": [
    "AXS_Announcement[[\"Content\"]].describe()"
   ]
  },
  {
   "cell_type": "code",
   "execution_count": 32,
   "id": "b46525f7",
   "metadata": {},
   "outputs": [
    {
     "data": {
      "text/html": [
       "<div>\n",
       "<style scoped>\n",
       "    .dataframe tbody tr th:only-of-type {\n",
       "        vertical-align: middle;\n",
       "    }\n",
       "\n",
       "    .dataframe tbody tr th {\n",
       "        vertical-align: top;\n",
       "    }\n",
       "\n",
       "    .dataframe thead th {\n",
       "        text-align: right;\n",
       "    }\n",
       "</style>\n",
       "<table border=\"1\" class=\"dataframe\">\n",
       "  <thead>\n",
       "    <tr style=\"text-align: right;\">\n",
       "      <th></th>\n",
       "      <th>Content</th>\n",
       "    </tr>\n",
       "  </thead>\n",
       "  <tbody>\n",
       "    <tr>\n",
       "      <th>count</th>\n",
       "      <td>501921</td>\n",
       "    </tr>\n",
       "    <tr>\n",
       "      <th>unique</th>\n",
       "      <td>428559</td>\n",
       "    </tr>\n",
       "    <tr>\n",
       "      <th>top</th>\n",
       "      <td>Hi</td>\n",
       "    </tr>\n",
       "    <tr>\n",
       "      <th>freq</th>\n",
       "      <td>1893</td>\n",
       "    </tr>\n",
       "  </tbody>\n",
       "</table>\n",
       "</div>"
      ],
      "text/plain": [
       "       Content\n",
       "count   501921\n",
       "unique  428559\n",
       "top         Hi\n",
       "freq      1893"
      ]
     },
     "execution_count": 32,
     "metadata": {},
     "output_type": "execute_result"
    }
   ],
   "source": [
    "AXS_Discussion[[\"Content\"]].describe()"
   ]
  }
 ],
 "metadata": {
  "kernelspec": {
   "display_name": "Python 3 (ipykernel)",
   "language": "python",
   "name": "python3"
  },
  "language_info": {
   "codemirror_mode": {
    "name": "ipython",
    "version": 3
   },
   "file_extension": ".py",
   "mimetype": "text/x-python",
   "name": "python",
   "nbconvert_exporter": "python",
   "pygments_lexer": "ipython3",
   "version": "3.8.13"
  }
 },
 "nbformat": 4,
 "nbformat_minor": 5
}
